{
 "cells": [
  {
   "cell_type": "markdown",
   "metadata": {},
   "source": [
    "## ОДНОМЕРНОЕ УРАВНЕНИЕ ТЕПЛОПРОВОДНОСТИ С ПОДВИЖНОЙ ГРАНИЦЕЙ\n",
    "##### (ПРОМЕРЗАНИЕВЛАЖНОГОГРУНТА)"
   ]
  },
  {
   "cell_type": "markdown",
   "metadata": {},
   "source": [
    "Постановка задачи. \n",
    "Влажный грунт находится в талом состоянии и имеет начальную постоянную температуру <b>T<sub>0</sub></b>. В начальный момент времени на поверхности грунта внезапно устанавливается некоторая температура <b>T<sub>c</sub></b>, которая ниже температуры замерзания <b>T<sub>з</sub></b>. В результате образуется промерзший слой переменной толщины <b>ξ=f(t)</b>. Нижняя подвижная граница его всегда имеет температуру замерзания <b>T<sub>з</sub></b>. На этой границе происходит переход из одного агрегатного состояния в другое, на что требуется теплота перехода <b>Q<sub>ф</sub>, кДж/кг</b>. Таким образом, верхняя граница <b>(x=ξ)</b> талой зоны имеет постоянную температуру замерзания, а нижняя граница <b>(x=L)</b>  –  некоторую постоянную температуру грунта на большой его глубине. Коэффициенты переноса промерзшей и талой зон различны. Предполагается, что перенос тепла в грунте происходит только вследствие теплопроводности. "
   ]
  },
  {
   "cell_type": "code",
   "execution_count": 1,
   "metadata": {},
   "outputs": [
    {
     "data": {
      "text/html": [
       "<img src=\"./chm1.png\"/>"
      ],
      "text/plain": [
       "<IPython.core.display.Image object>"
      ]
     },
     "metadata": {},
     "output_type": "display_data"
    }
   ],
   "source": [
    "from IPython.display import Image\n",
    "display(Image(url='./chm1.png'))"
   ]
  },
  {
   "cell_type": "markdown",
   "metadata": {},
   "source": [
    "На основе всего выше сказанного математическая постановка задачи примет вид: "
   ]
  },
  {
   "cell_type": "code",
   "execution_count": 2,
   "metadata": {},
   "outputs": [
    {
     "data": {
      "text/html": [
       "<img src=\"./chm2.png\"/>"
      ],
      "text/plain": [
       "<IPython.core.display.Image object>"
      ]
     },
     "metadata": {},
     "output_type": "display_data"
    }
   ],
   "source": [
    "display(Image(url='./chm2.png'))"
   ]
  },
  {
   "cell_type": "markdown",
   "metadata": {},
   "source": [
    "где <b>ρ</b> – плотность грунта, (кг/м<sup>3</sup>); <b>w</b> – влажность грунта, (кг/кг).\n",
    "\n",
    "\n",
    "Постоянные температуры, участвующие в постановке задачи: T<sub>с</sub><T<sub>з</sub><T<sub>0</sub>. \n",
    "Сформулированную задачу будем решать методом ловли фронта в узел пространственной сетки. Для этого вводится равномерная пространственная сетка:"
   ]
  },
  {
   "cell_type": "code",
   "execution_count": 3,
   "metadata": {},
   "outputs": [
    {
     "data": {
      "text/html": [
       "<img src=\"./chm3.png\"/>"
      ],
      "text/plain": [
       "<IPython.core.display.Image object>"
      ]
     },
     "metadata": {},
     "output_type": "display_data"
    }
   ],
   "source": [
    "display(Image(url='./chm3.png'))"
   ]
  },
  {
   "cell_type": "markdown",
   "metadata": {},
   "source": [
    "Также вводится неравномерная временная сетка:"
   ]
  },
  {
   "cell_type": "code",
   "execution_count": 4,
   "metadata": {},
   "outputs": [
    {
     "data": {
      "text/html": [
       "<img src=\"./chm4.png\"/>"
      ],
      "text/plain": [
       "<IPython.core.display.Image object>"
      ]
     },
     "metadata": {},
     "output_type": "display_data"
    }
   ],
   "source": [
    "display(Image(url='./chm4.png'))"
   ]
  },
  {
   "cell_type": "markdown",
   "metadata": {},
   "source": [
    "Следует выбирать шаг по времени <b>τ<sub>n+1</sub>, n=0,1...M-1</b> таким, чтобы за этот временной промежуток граница фазового перехода сдвинулась ровно на один шаг пространственной сетки, тогда можно записать: "
   ]
  },
  {
   "cell_type": "code",
   "execution_count": 5,
   "metadata": {},
   "outputs": [
    {
     "data": {
      "text/html": [
       "<img src=\"./chm5.png\"/>"
      ],
      "text/plain": [
       "<IPython.core.display.Image object>"
      ]
     },
     "metadata": {},
     "output_type": "display_data"
    }
   ],
   "source": [
    "display(Image(url='./chm5.png'))"
   ]
  },
  {
   "cell_type": "code",
   "execution_count": 1,
   "metadata": {},
   "outputs": [],
   "source": [
    "import matplotlib.pyplot as plt\n",
    "\n",
    "def sqr(h):\n",
    "    return h**2"
   ]
  },
  {
   "cell_type": "code",
   "execution_count": 2,
   "metadata": {},
   "outputs": [],
   "source": [
    "L   =  0.3        # глубина грунта\n",
    "\n",
    "lambda1  =  2.3   # хар-ки промерзшего грунта\n",
    "ro1  =  917       # \n",
    "c1  =  2090       #\n",
    "\n",
    "lambda2  =  0.6   # хар-ки талого грунта\n",
    "ro2  =  1000      #\n",
    "c2  =  4220       #\n",
    "\n",
    "T0  =  293        # хар-ные температуры\n",
    "Tfr  =  273       #\n",
    "Tc  =  268        #\n",
    "\n",
    "Qfr   =  3.32e5   # теплота фазового перехода\n",
    "w   =  1          # влажность\n"
   ]
  },
  {
   "cell_type": "code",
   "execution_count": 3,
   "metadata": {},
   "outputs": [],
   "source": [
    "N = 150\n",
    "t_end1 = 4316\n",
    "t_end2 = 19464\n",
    "t_end3 = 90875\n",
    "t_end4 = 266246\n",
    "\n",
    "\n",
    "h = L/(N-1)\n",
    "a1 = lambda1/(ro1*c1)\n",
    "a2 = lambda2/(ro2*c2)\n",
    "\n",
    "eps = 1e-2\n",
    "\n",
    "Tn, Ts = [0]*(N+1), [0]*(N+1)\n",
    "\n"
   ]
  },
  {
   "cell_type": "code",
   "execution_count": 7,
   "metadata": {},
   "outputs": [
    {
     "data": {
      "image/png": "[encoded data removed]",
      "text/plain": [
       "<Figure size 432x288 with 1 Axes>"
      ]
     },
     "metadata": {
      "needs_background": "light"
     },
     "output_type": "display_data"
    }
   ],
   "source": [
    "T = [T0]*(N+1)\n",
    "alfa = [0]*(N+1)\n",
    "beta = [0]*(N+1)\n",
    "\n",
    "fig = plt.figure()\n",
    "ax1 = fig.add_subplot(111)\n",
    "\n",
    "time = 0\n",
    "\n",
    "k = 1\n",
    "times = []\n",
    "while time < t_end1:\n",
    "    for i in range(1,N+1):\n",
    "        Tn[i] = T[i]\n",
    "       \n",
    "    k+=1\n",
    "\n",
    "    max_ = 1\n",
    "    while max_ > eps:\n",
    "        \n",
    "        for i in range(1,N+1):\n",
    "            Ts[i] = T[i]\n",
    "            \n",
    "        tau=(2.0*a1*a2*Qfr*w*0.5*(ro1+ro2)*sqr(h)-sqr(h)*(lambda1*a2+lambda2*a1)*(Tfr-Tn[k]))/(2.0*a1*a2*(lambda1*(Tfr-T[k-1])-lambda2*(T[k+1]-Tfr)))\n",
    "        #print(tau)         \n",
    "    \n",
    "        alfa[1] = 0;\n",
    "        beta[1] = Tc;\n",
    "\n",
    "        for i in range(2,k):\n",
    "            ai = a1/sqr(h)\n",
    "            bi = 2*a1/sqr(h)+1/tau\n",
    "            ci = a1/sqr(h)\n",
    "            fi = -Tn[i]/tau\n",
    "            alfa[i] = ai/(bi-ci*alfa[i-1])\n",
    "            beta[i] = (ci*beta[i-1]-fi)/(bi-ci*alfa[i-1])\n",
    "\n",
    "        T[k] = Tfr\n",
    "        \n",
    "        for i in range(k-1,1,-1):\n",
    "            T[i] = alfa[i]*T[i+1]+beta[i]\n",
    "\n",
    "        alfa[k] = 0\n",
    "        beta[k] = Tfr\n",
    "\n",
    "        for i in range(k+1,N):\n",
    "            ai = a2/sqr(h)\n",
    "            bi = 2*a2/sqr(h)+1/tau\n",
    "            ci = a2/sqr(h)\n",
    "            fi = -Tn[i]/tau\n",
    "            alfa[i] = ai/(bi-ci*alfa[i-1])\n",
    "            beta[i] = (ci*beta[i-1]-fi)/(bi-ci*alfa[i-1])\n",
    "\n",
    "        T[N] = (2*a2*tau*beta[N-1]+sqr(h)*Tn[N])/(2*a2*tau*(1-alfa[N-1])+sqr(h))\n",
    "\n",
    "        for i in range(N-1,k,-1):\n",
    "            T[i] = alfa[i]*T[i+1]+beta[i]\n",
    "            \n",
    "        max_ = max(abs(T[i]-Ts[i]) for i in range(1,N+1))\n",
    "    time += tau\n",
    "    times.append(time)\n",
    "line1, = ax1.plot(range(N-1), T[2:], 'black', label=\"t = 4316\")\n",
    "\n",
    "\n",
    "\n",
    "while time < t_end2:\n",
    "    for i in range(1,N+1):\n",
    "        Tn[i] = T[i]\n",
    "       \n",
    "    k+=1\n",
    "\n",
    "    max_ = 1\n",
    "    while max_ > eps:\n",
    "        \n",
    "        for i in range(1,N+1):\n",
    "            Ts[i] = T[i]\n",
    "\n",
    "        tau=(2.0*a1*a2*Qfr*w*0.5*(ro1+ro2)*sqr(h)-sqr(h)*(lambda1*a2+lambda2*a1)*(Tfr-Tn[k]))/(2.0*a1*a2*(lambda1*(Tfr-T[k-1])-lambda2*(T[k+1]-Tfr)))\n",
    "        #print(tau)         \n",
    "        \n",
    "        alfa[1] = 0;\n",
    "        beta[1] = Tc;\n",
    "\n",
    "        for i in range(2,k):\n",
    "            ai = a1/sqr(h)\n",
    "            bi = 2*a1/sqr(h)+1/tau\n",
    "            ci = a1/sqr(h)\n",
    "            fi = -Tn[i]/tau\n",
    "            alfa[i] = ai/(bi-ci*alfa[i-1])\n",
    "            beta[i] = (ci*beta[i-1]-fi)/(bi-ci*alfa[i-1])\n",
    "\n",
    "        T[k] = Tfr\n",
    "        \n",
    "        for i in range(k-1,1,-1):\n",
    "            T[i] = alfa[i]*T[i+1]+beta[i]\n",
    "\n",
    "        alfa[k] = 0\n",
    "        beta[k] = Tfr\n",
    "\n",
    "        for i in range(k+1,N):\n",
    "            ai = a2/sqr(h)\n",
    "            bi = 2*a2/sqr(h)+1/tau\n",
    "            ci = a2/sqr(h)\n",
    "            fi = -Tn[i]/tau\n",
    "            alfa[i] = ai/(bi-ci*alfa[i-1])\n",
    "            beta[i] = (ci*beta[i-1]-fi)/(bi-ci*alfa[i-1])\n",
    "\n",
    "        T[N] = (2*a2*tau*beta[N-1]+sqr(h)*Tn[N])/(2*a2*tau*(1-alfa[N-1])+sqr(h))\n",
    "\n",
    "        for i in range(N-1,k,-1):\n",
    "            T[i] = alfa[i]*T[i+1]+beta[i]\n",
    "            \n",
    "        max_ = max(abs(T[i]-Ts[i]) for i in range(1,N+1))\n",
    "    time += tau\n",
    "    times.append(time)\n",
    "line2, = ax1.plot(range(N-1), T[2:], 'blue', label=\"t = 19464\")\n",
    "\n",
    "\n",
    "\n",
    "while time < t_end3:\n",
    "    for i in range(1,N+1):\n",
    "        Tn[i] = T[i]\n",
    "       \n",
    "    k+=1\n",
    "\n",
    "    max_ = 1\n",
    "    while max_ > eps:\n",
    "        \n",
    "        for i in range(1,N+1):\n",
    "            Ts[i] = T[i]\n",
    "\n",
    "        tau=(2.0*a1*a2*Qfr*w*0.5*(ro1+ro2)*sqr(h)-sqr(h)*(lambda1*a2+lambda2*a1)*(Tfr-Tn[k]))/(2.0*a1*a2*(lambda1*(Tfr-T[k-1])-lambda2*(T[k+1]-Tfr)))\n",
    "        #print(tau)         \n",
    "        \n",
    "        alfa[1] = 0;\n",
    "        beta[1] = Tc;\n",
    "\n",
    "        for i in range(2,k):\n",
    "            ai = a1/sqr(h)\n",
    "            bi = 2*a1/sqr(h)+1/tau\n",
    "            ci = a1/sqr(h)\n",
    "            fi = -Tn[i]/tau\n",
    "            alfa[i] = ai/(bi-ci*alfa[i-1])\n",
    "            beta[i] = (ci*beta[i-1]-fi)/(bi-ci*alfa[i-1])\n",
    "\n",
    "        T[k] = Tfr\n",
    "        \n",
    "        for i in range(k-1,1,-1):\n",
    "            T[i] = alfa[i]*T[i+1]+beta[i]\n",
    "\n",
    "        alfa[k] = 0\n",
    "        beta[k] = Tfr\n",
    "\n",
    "        for i in range(k+1,N):\n",
    "            ai = a2/sqr(h)\n",
    "            bi = 2*a2/sqr(h)+1/tau\n",
    "            ci = a2/sqr(h)\n",
    "            fi = -Tn[i]/tau\n",
    "            alfa[i] = ai/(bi-ci*alfa[i-1])\n",
    "            beta[i] = (ci*beta[i-1]-fi)/(bi-ci*alfa[i-1])\n",
    "\n",
    "        T[N] = (2*a2*tau*beta[N-1]+sqr(h)*Tn[N])/(2*a2*tau*(1-alfa[N-1])+sqr(h))\n",
    "\n",
    "        for i in range(N-1,k,-1):\n",
    "            T[i] = alfa[i]*T[i+1]+beta[i]\n",
    "            \n",
    "        max_ = max(abs(T[i]-Ts[i]) for i in range(1,N+1))\n",
    "    time += tau\n",
    "    times.append(time)\n",
    "line3, = ax1.plot(range(N-1), T[2:], 'green', label=\"t = 90875\")\n",
    "\n",
    "\n",
    "\n",
    "while time < t_end4:\n",
    "    for i in range(1,N+1):\n",
    "        Tn[i] = T[i]\n",
    "       \n",
    "    k+=1\n",
    "\n",
    "    max_ = 1\n",
    "    while max_ > eps:\n",
    "        \n",
    "        for i in range(1,N+1):\n",
    "            Ts[i] = T[i]\n",
    "\n",
    "        tau=(2.0*a1*a2*Qfr*w*0.5*(ro1+ro2)*sqr(h)-sqr(h)*(lambda1*a2+lambda2*a1)*(Tfr-Tn[k]))/(2.0*a1*a2*(lambda1*(Tfr-T[k-1])-lambda2*(T[k+1]-Tfr)))\n",
    "        #print(tau)         \n",
    "        \n",
    "        alfa[1] = 0;\n",
    "        beta[1] = Tc;\n",
    "\n",
    "        for i in range(2,k):\n",
    "            ai = a1/sqr(h)\n",
    "            bi = 2*a1/sqr(h)+1/tau\n",
    "            ci = a1/sqr(h)\n",
    "            fi = -Tn[i]/tau\n",
    "            alfa[i] = ai/(bi-ci*alfa[i-1])\n",
    "            beta[i] = (ci*beta[i-1]-fi)/(bi-ci*alfa[i-1])\n",
    "\n",
    "        T[k] = Tfr\n",
    "        \n",
    "        for i in range(k-1,1,-1):\n",
    "            T[i] = alfa[i]*T[i+1]+beta[i]\n",
    "\n",
    "        alfa[k] = 0\n",
    "        beta[k] = Tfr\n",
    "\n",
    "        for i in range(k+1,N):\n",
    "            ai = a2/sqr(h)\n",
    "            bi = 2*a2/sqr(h)+1/tau\n",
    "            ci = a2/sqr(h)\n",
    "            fi = -Tn[i]/tau\n",
    "            alfa[i] = ai/(bi-ci*alfa[i-1])\n",
    "            beta[i] = (ci*beta[i-1]-fi)/(bi-ci*alfa[i-1])\n",
    "\n",
    "        T[N] = (2*a2*tau*beta[N-1]+sqr(h)*Tn[N])/(2*a2*tau*(1-alfa[N-1])+sqr(h))\n",
    "\n",
    "        for i in range(N-1,k,-1):\n",
    "            T[i] = alfa[i]*T[i+1]+beta[i]\n",
    "            \n",
    "        max_ = max(abs(T[i]-Ts[i]) for i in range(1,N+1))\n",
    "    time += tau\n",
    "    times.append(time)\n",
    "line4, = ax1.plot(range(N-1), T[2:], 'red', label=\"t = 266246\")\n",
    "\n",
    "\n",
    "plt.title('Results')\n",
    "plt.legend((line1, line2, line3, line4), ('4316c', '19464c', '90875c', '266246c'))\n",
    "\n",
    "plt.ylabel('Tempeature')\n",
    "plt.xlabel('Depth')\n",
    "\n",
    "\n",
    "plt.show()"
   ]
  },
  {
   "cell_type": "code",
   "execution_count": 8,
   "metadata": {},
   "outputs": [
    {
     "data": {
      "text/plain": [
       "[-32.25591677031028,\n",
       " 466.510810539613,\n",
       " 1084.6183383388072,\n",
       " 1870.1842008853837,\n",
       " 2845.4764157195523,\n",
       " 4015.565924198392,\n",
       " 5379.915714839226,\n",
       " 6940.662490298118,\n",
       " 8694.73886987642,\n",
       " 10646.320932981796,\n",
       " 12794.329360335138,\n",
       " 15136.344927556926,\n",
       " 17672.766184494252,\n",
       " 20409.60567239073,\n",
       " 23335.848264538254,\n",
       " 26462.575387553727,\n",
       " 29782.396680692353,\n",
       " 33296.83079810434,\n",
       " 37012.317559719886,\n",
       " 40919.8989601662,\n",
       " 45020.47156556999,\n",
       " 49314.74836504572,\n",
       " 53809.95619917803,\n",
       " 58501.64601718972,\n",
       " 63382.351310798666,\n",
       " 68455.14706954776,\n",
       " 73722.26141623162,\n",
       " 79177.98183650381,\n",
       " 84814.32070752431,\n",
       " 90636.23013181592,\n",
       " 96638.30051107534,\n",
       " 102816.40561479419,\n",
       " 109161.3338035679,\n",
       " 115667.8096768395,\n",
       " 122328.44536914387,\n",
       " 129135.51281192235,\n",
       " 136081.46212917866,\n",
       " 143147.22364313653,\n",
       " 150334.86334121934,\n",
       " 157631.68060873306,\n",
       " 165023.47454758594,\n",
       " 172511.3904381945,\n",
       " 180086.03490014258,\n",
       " 187748.6904001753,\n",
       " 195471.73849472887,\n",
       " 203261.39692013842,\n",
       " 211110.28475357938,\n",
       " 219013.2342221657,\n",
       " 226965.7229291941,\n",
       " 234963.8688060891,\n",
       " 243004.45145810046,\n",
       " 251085.05551442542,\n",
       " 259205.15728603597,\n",
       " 267352.71816821146]"
      ]
     },
     "execution_count": 8,
     "metadata": {},
     "output_type": "execute_result"
    }
   ],
   "source": [
    "times[:70]"
   ]
  },
  {
   "cell_type": "code",
   "execution_count": null,
   "metadata": {},
   "outputs": [],
   "source": []
  }
 ],
 "metadata": {
  "kernelspec": {
   "display_name": "Python 3",
   "language": "python",
   "name": "python3"
  },
  "language_info": {
   "codemirror_mode": {
    "name": "ipython",
    "version": 3
   },
   "file_extension": ".py",
   "mimetype": "text/x-python",
   "name": "python",
   "nbconvert_exporter": "python",
   "pygments_lexer": "ipython3",
   "version": "3.7.0"
  }
 },
 "nbformat": 4,
 "nbformat_minor": 2
}
